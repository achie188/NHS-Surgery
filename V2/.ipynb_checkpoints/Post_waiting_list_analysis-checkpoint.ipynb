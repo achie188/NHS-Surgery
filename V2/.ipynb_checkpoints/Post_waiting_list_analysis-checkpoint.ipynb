{
 "cells": [
  {
   "cell_type": "code",
   "execution_count": 1,
   "metadata": {},
   "outputs": [],
   "source": [
    "import pandas as pd\n",
    "import numpy as np\n",
    "import datetime as dt\n",
    "import matplotlib.pyplot as plt\n",
    "\n",
    "%store -r Clinical_urgency\n",
    "%store -r Clinical_efficiency\n",
    "%store -r Waiting_urgency\n",
    "%store -r Waiting_efficiency\n",
    "%store -r Welfare_urgency\n",
    "%store -r Welfare_efficiency\n",
    "%store -r Volume"
   ]
  },
  {
   "cell_type": "code",
   "execution_count": 3,
   "metadata": {
    "scrolled": true
   },
   "outputs": [
    {
     "ename": "KeyError",
     "evalue": "'Hospital Urgency Score'",
     "output_type": "error",
     "traceback": [
      "\u001b[1;31m---------------------------------------------------------------------------\u001b[0m",
      "\u001b[1;31mKeyError\u001b[0m                                  Traceback (most recent call last)",
      "\u001b[1;32m~\\Anaconda3\\lib\\site-packages\\pandas\\core\\indexes\\base.py\u001b[0m in \u001b[0;36mget_loc\u001b[1;34m(self, key, method, tolerance)\u001b[0m\n\u001b[0;32m   2897\u001b[0m             \u001b[1;32mtry\u001b[0m\u001b[1;33m:\u001b[0m\u001b[1;33m\u001b[0m\u001b[1;33m\u001b[0m\u001b[0m\n\u001b[1;32m-> 2898\u001b[1;33m                 \u001b[1;32mreturn\u001b[0m \u001b[0mself\u001b[0m\u001b[1;33m.\u001b[0m\u001b[0m_engine\u001b[0m\u001b[1;33m.\u001b[0m\u001b[0mget_loc\u001b[0m\u001b[1;33m(\u001b[0m\u001b[0mcasted_key\u001b[0m\u001b[1;33m)\u001b[0m\u001b[1;33m\u001b[0m\u001b[1;33m\u001b[0m\u001b[0m\n\u001b[0m\u001b[0;32m   2899\u001b[0m             \u001b[1;32mexcept\u001b[0m \u001b[0mKeyError\u001b[0m \u001b[1;32mas\u001b[0m \u001b[0merr\u001b[0m\u001b[1;33m:\u001b[0m\u001b[1;33m\u001b[0m\u001b[1;33m\u001b[0m\u001b[0m\n",
      "\u001b[1;32mpandas\\_libs\\index.pyx\u001b[0m in \u001b[0;36mpandas._libs.index.IndexEngine.get_loc\u001b[1;34m()\u001b[0m\n",
      "\u001b[1;32mpandas\\_libs\\index.pyx\u001b[0m in \u001b[0;36mpandas._libs.index.IndexEngine.get_loc\u001b[1;34m()\u001b[0m\n",
      "\u001b[1;32mpandas\\_libs\\hashtable_class_helper.pxi\u001b[0m in \u001b[0;36mpandas._libs.hashtable.PyObjectHashTable.get_item\u001b[1;34m()\u001b[0m\n",
      "\u001b[1;32mpandas\\_libs\\hashtable_class_helper.pxi\u001b[0m in \u001b[0;36mpandas._libs.hashtable.PyObjectHashTable.get_item\u001b[1;34m()\u001b[0m\n",
      "\u001b[1;31mKeyError\u001b[0m: 'Hospital Urgency Score'",
      "\nThe above exception was the direct cause of the following exception:\n",
      "\u001b[1;31mKeyError\u001b[0m                                  Traceback (most recent call last)",
      "\u001b[1;32m<ipython-input-3-765a48cc4ba6>\u001b[0m in \u001b[0;36m<module>\u001b[1;34m\u001b[0m\n\u001b[0;32m     65\u001b[0m     \u001b[0mVolume\u001b[0m \u001b[1;33m=\u001b[0m \u001b[1;36m0\u001b[0m\u001b[1;33m\u001b[0m\u001b[1;33m\u001b[0m\u001b[0m\n\u001b[0;32m     66\u001b[0m \u001b[1;33m\u001b[0m\u001b[0m\n\u001b[1;32m---> 67\u001b[1;33m \u001b[0mGraph\u001b[0m\u001b[1;33m[\u001b[0m\u001b[1;34m'New_clinical'\u001b[0m\u001b[1;33m]\u001b[0m \u001b[1;33m=\u001b[0m \u001b[0mnp\u001b[0m\u001b[1;33m.\u001b[0m\u001b[0mwhere\u001b[0m\u001b[1;33m(\u001b[0m\u001b[0mGraph\u001b[0m\u001b[1;33m[\u001b[0m\u001b[1;34m'Session'\u001b[0m\u001b[1;33m]\u001b[0m \u001b[1;33m==\u001b[0m \u001b[1;34m'None'\u001b[0m\u001b[1;33m,\u001b[0m \u001b[0mGraph\u001b[0m\u001b[1;33m[\u001b[0m\u001b[1;34m'Hospital Urgency Score'\u001b[0m\u001b[1;33m]\u001b[0m\u001b[1;33m,\u001b[0m \u001b[0mnp\u001b[0m\u001b[1;33m.\u001b[0m\u001b[0mnan\u001b[0m\u001b[1;33m)\u001b[0m\u001b[1;33m\u001b[0m\u001b[1;33m\u001b[0m\u001b[0m\n\u001b[0m\u001b[0;32m     68\u001b[0m \u001b[0mGraph\u001b[0m\u001b[1;33m[\u001b[0m\u001b[1;34m'New_waiting'\u001b[0m\u001b[1;33m]\u001b[0m \u001b[1;33m=\u001b[0m \u001b[0mnp\u001b[0m\u001b[1;33m.\u001b[0m\u001b[0mwhere\u001b[0m\u001b[1;33m(\u001b[0m\u001b[0mGraph\u001b[0m\u001b[1;33m[\u001b[0m\u001b[1;34m'Session'\u001b[0m\u001b[1;33m]\u001b[0m \u001b[1;33m==\u001b[0m \u001b[1;34m'None'\u001b[0m\u001b[1;33m,\u001b[0m \u001b[0mGraph\u001b[0m\u001b[1;33m[\u001b[0m\u001b[1;34m'Waiting_time'\u001b[0m\u001b[1;33m]\u001b[0m\u001b[1;33m,\u001b[0m \u001b[0mnp\u001b[0m\u001b[1;33m.\u001b[0m\u001b[0mnan\u001b[0m\u001b[1;33m)\u001b[0m\u001b[1;33m\u001b[0m\u001b[1;33m\u001b[0m\u001b[0m\n\u001b[0;32m     69\u001b[0m \u001b[0mGraph\u001b[0m\u001b[1;33m[\u001b[0m\u001b[1;34m'New_welfare'\u001b[0m\u001b[1;33m]\u001b[0m \u001b[1;33m=\u001b[0m \u001b[0mnp\u001b[0m\u001b[1;33m.\u001b[0m\u001b[0mwhere\u001b[0m\u001b[1;33m(\u001b[0m\u001b[0mGraph\u001b[0m\u001b[1;33m[\u001b[0m\u001b[1;34m'Session'\u001b[0m\u001b[1;33m]\u001b[0m \u001b[1;33m==\u001b[0m \u001b[1;34m'None'\u001b[0m\u001b[1;33m,\u001b[0m \u001b[0mGraph\u001b[0m\u001b[1;33m[\u001b[0m\u001b[1;34m'Welfare_cost'\u001b[0m\u001b[1;33m]\u001b[0m\u001b[1;33m,\u001b[0m \u001b[0mnp\u001b[0m\u001b[1;33m.\u001b[0m\u001b[0mnan\u001b[0m\u001b[1;33m)\u001b[0m\u001b[1;33m\u001b[0m\u001b[1;33m\u001b[0m\u001b[0m\n",
      "\u001b[1;32m~\\Anaconda3\\lib\\site-packages\\pandas\\core\\frame.py\u001b[0m in \u001b[0;36m__getitem__\u001b[1;34m(self, key)\u001b[0m\n\u001b[0;32m   2904\u001b[0m             \u001b[1;32mif\u001b[0m \u001b[0mself\u001b[0m\u001b[1;33m.\u001b[0m\u001b[0mcolumns\u001b[0m\u001b[1;33m.\u001b[0m\u001b[0mnlevels\u001b[0m \u001b[1;33m>\u001b[0m \u001b[1;36m1\u001b[0m\u001b[1;33m:\u001b[0m\u001b[1;33m\u001b[0m\u001b[1;33m\u001b[0m\u001b[0m\n\u001b[0;32m   2905\u001b[0m                 \u001b[1;32mreturn\u001b[0m \u001b[0mself\u001b[0m\u001b[1;33m.\u001b[0m\u001b[0m_getitem_multilevel\u001b[0m\u001b[1;33m(\u001b[0m\u001b[0mkey\u001b[0m\u001b[1;33m)\u001b[0m\u001b[1;33m\u001b[0m\u001b[1;33m\u001b[0m\u001b[0m\n\u001b[1;32m-> 2906\u001b[1;33m             \u001b[0mindexer\u001b[0m \u001b[1;33m=\u001b[0m \u001b[0mself\u001b[0m\u001b[1;33m.\u001b[0m\u001b[0mcolumns\u001b[0m\u001b[1;33m.\u001b[0m\u001b[0mget_loc\u001b[0m\u001b[1;33m(\u001b[0m\u001b[0mkey\u001b[0m\u001b[1;33m)\u001b[0m\u001b[1;33m\u001b[0m\u001b[1;33m\u001b[0m\u001b[0m\n\u001b[0m\u001b[0;32m   2907\u001b[0m             \u001b[1;32mif\u001b[0m \u001b[0mis_integer\u001b[0m\u001b[1;33m(\u001b[0m\u001b[0mindexer\u001b[0m\u001b[1;33m)\u001b[0m\u001b[1;33m:\u001b[0m\u001b[1;33m\u001b[0m\u001b[1;33m\u001b[0m\u001b[0m\n\u001b[0;32m   2908\u001b[0m                 \u001b[0mindexer\u001b[0m \u001b[1;33m=\u001b[0m \u001b[1;33m[\u001b[0m\u001b[0mindexer\u001b[0m\u001b[1;33m]\u001b[0m\u001b[1;33m\u001b[0m\u001b[1;33m\u001b[0m\u001b[0m\n",
      "\u001b[1;32m~\\Anaconda3\\lib\\site-packages\\pandas\\core\\indexes\\base.py\u001b[0m in \u001b[0;36mget_loc\u001b[1;34m(self, key, method, tolerance)\u001b[0m\n\u001b[0;32m   2898\u001b[0m                 \u001b[1;32mreturn\u001b[0m \u001b[0mself\u001b[0m\u001b[1;33m.\u001b[0m\u001b[0m_engine\u001b[0m\u001b[1;33m.\u001b[0m\u001b[0mget_loc\u001b[0m\u001b[1;33m(\u001b[0m\u001b[0mcasted_key\u001b[0m\u001b[1;33m)\u001b[0m\u001b[1;33m\u001b[0m\u001b[1;33m\u001b[0m\u001b[0m\n\u001b[0;32m   2899\u001b[0m             \u001b[1;32mexcept\u001b[0m \u001b[0mKeyError\u001b[0m \u001b[1;32mas\u001b[0m \u001b[0merr\u001b[0m\u001b[1;33m:\u001b[0m\u001b[1;33m\u001b[0m\u001b[1;33m\u001b[0m\u001b[0m\n\u001b[1;32m-> 2900\u001b[1;33m                 \u001b[1;32mraise\u001b[0m \u001b[0mKeyError\u001b[0m\u001b[1;33m(\u001b[0m\u001b[0mkey\u001b[0m\u001b[1;33m)\u001b[0m \u001b[1;32mfrom\u001b[0m \u001b[0merr\u001b[0m\u001b[1;33m\u001b[0m\u001b[1;33m\u001b[0m\u001b[0m\n\u001b[0m\u001b[0;32m   2901\u001b[0m \u001b[1;33m\u001b[0m\u001b[0m\n\u001b[0;32m   2902\u001b[0m         \u001b[1;32mif\u001b[0m \u001b[0mtolerance\u001b[0m \u001b[1;32mis\u001b[0m \u001b[1;32mnot\u001b[0m \u001b[1;32mNone\u001b[0m\u001b[1;33m:\u001b[0m\u001b[1;33m\u001b[0m\u001b[1;33m\u001b[0m\u001b[0m\n",
      "\u001b[1;31mKeyError\u001b[0m: 'Hospital Urgency Score'"
     ]
    }
   ],
   "source": [
    "#CREATE PRE AND POST WAITING LIST\n",
    "url = r'C:\\Users\\achie\\Github\\NHS-Surgery\\V2'\n",
    "\n",
    "if Clinical_urgency == 1:\n",
    "    \n",
    "    imp = url + r'\\Schedule - CLINICAL URGENCY.xlsx'\n",
    "    CU_Overall_sched = pd.read_excel(imp, sheet_name = 4, header=0, index_col=0, engine='openpyxl')\n",
    "    CU_Overall_slots = pd.read_excel(imp, sheet_name = 6, header=0, index_col=0, engine='openpyxl')\n",
    "    Graph = pd.merge(CU_Overall_sched, CU_Overall_slots, on = 'Session_ID')\n",
    "    \n",
    "    Clinical_urgency = 0\n",
    "    \n",
    "if Clinical_efficiency == 1:\n",
    "    \n",
    "    imp = url + r'\\Schedule - CLINICAL EFFICIENCY.xlsx'\n",
    "    CE_Overall_sched = pd.read_excel(imp, sheet_name = 4, header=0, index_col=0, engine='openpyxl')\n",
    "    CE_Overall_slots = pd.read_excel(imp, sheet_name = 6, header=0, index_col=0, engine='openpyxl')\n",
    "    Graph = pd.merge(CE_Overall_sched, CE_Overall_slots, on = 'Session_ID')\n",
    "    \n",
    "    Clinical_efficiency = 0\n",
    "    \n",
    "if Waiting_urgency == 1:\n",
    "    \n",
    "    imp = url + r'\\Schedule - WAITING URGENCY.xlsx'\n",
    "    WU_Overall_sched = pd.read_excel(imp, sheet_name = 4, header=0, index_col=0, engine='openpyxl')\n",
    "    WU_Overall_slots = pd.read_excel(imp, sheet_name = 6, header=0, index_col=0, engine='openpyxl')\n",
    "    Graph = pd.merge(WU_Overall_sched, WU_Overall_slots, on = 'Session_ID')\n",
    "    \n",
    "    Waiting_urgency = 0\n",
    "    \n",
    "if Waiting_efficiency == 1:\n",
    "    \n",
    "    imp = url + r'\\Schedule - WAITING EFFICIENCY.xlsx'\n",
    "    WE_Overall_sched = pd.read_excel(imp, sheet_name = 4, header=0, index_col=0, engine='openpyxl')\n",
    "    WE_Overall_slots = pd.read_excel(imp, sheet_name = 6, header=0, index_col=0, engine='openpyxl')\n",
    "    Graph = pd.merge(WE_Overall_sched, WE_Overall_slots, on = 'Session_ID')\n",
    "    \n",
    "    Waiting_efficiency = 0\n",
    "    \n",
    "if Welfare_urgency == 1:\n",
    "    \n",
    "    imp = url + r'\\Schedule - WELFARE URGENCY.xlsx'\n",
    "    WEU_Overall_sched = pd.read_excel(imp, sheet_name = 4, header=0, index_col=0, engine='openpyxl')\n",
    "    WEU_Overall_slots = pd.read_excel(imp, sheet_name = 6, header=0, index_col=0, engine='openpyxl')\n",
    "    Graph = pd.merge(WEU_Overall_sched, WEU_Overall_slots, on = 'Session_ID')\n",
    "    \n",
    "    Welfare_urgency = 0\n",
    "    \n",
    "if Welfare_efficiency == 1:\n",
    "    \n",
    "    imp = url + r'\\Schedule - WELFARE EFFICIENCY.xlsx'\n",
    "    WEE_Overall_sched = pd.read_excel(imp, sheet_name = 4, header=0, index_col=0, engine='openpyxl')\n",
    "    WEE_Overall_slots = pd.read_excel(imp, sheet_name = 6, header=0, index_col=0, engine='openpyxl')\n",
    "    Graph = pd.merge(WEE_Overall_sched, WEE_Overall_slots, on = 'Session_ID')\n",
    "    \n",
    "    Welfare_efficiency = 0\n",
    "    \n",
    "if Volume == 1:\n",
    "    \n",
    "    imp = url + r'\\Schedule - VOLUME.xlsx'\n",
    "    V_Overall_sched = pd.read_excel(imp, sheet_name = 4, header=0, index_col=0, engine='openpyxl')\n",
    "    V_Overall_slots = pd.read_excel(imp, sheet_name = 6, header=0, index_col=0, engine='openpyxl')\n",
    "    Graph = pd.merge(V_Overall_sched, V_Overall_slots, on = 'Session_ID')\n",
    "    \n",
    "    Volume = 0\n",
    "    \n",
    "Graph['New_clinical'] = np.where(Graph['Session'] == 'None', Graph['Hospital Urgency Score'], np.nan)\n",
    "Graph['New_waiting'] = np.where(Graph['Session'] == 'None', Graph['Waiting_time'], np.nan)\n",
    "Graph['New_welfare'] = np.where(Graph['Session'] == 'None', Graph['Welfare_cost'], np.nan)"
   ]
  },
  {
   "cell_type": "code",
   "execution_count": 3,
   "metadata": {},
   "outputs": [
    {
     "data": {
      "text/plain": [
       "<matplotlib.legend.Legend at 0x1fb5ab65b80>"
      ]
     },
     "execution_count": 3,
     "metadata": {},
     "output_type": "execute_result"
    },
    {
     "data": {
      "image/png": "[encoded data removed]",
      "text/plain": [
       "<Figure size 1440x504 with 1 Axes>"
      ]
     },
     "metadata": {
      "needs_background": "light"
     },
     "output_type": "display_data"
    }
   ],
   "source": [
    "plt.figure(figsize=(20,7))\n",
    "plt.hist(Graph['Hospital Urgency Score'], bins=range(0, 50), alpha=0.5, label=\"Before\")\n",
    "plt.hist(Graph['New_clinical'], bins=range(0, 50), alpha=0.5, label=\"After\")\n",
    "\n",
    "plt.xlabel(\"Clinical Urgency\", size=14)\n",
    "plt.ylabel(\"Count\", size=14)\n",
    "plt.ylim(0, 150)\n",
    "plt.title(\"Waiting List Before and After\")\n",
    "plt.legend(loc='upper right')"
   ]
  },
  {
   "cell_type": "code",
   "execution_count": 9,
   "metadata": {},
   "outputs": [
    {
     "data": {
      "text/plain": [
       "<matplotlib.legend.Legend at 0x1fb5ba81c10>"
      ]
     },
     "execution_count": 9,
     "metadata": {},
     "output_type": "execute_result"
    },
    {
     "data": {
      "image/png": "[encoded data removed]",
      "text/plain": [
       "<Figure size 1440x504 with 1 Axes>"
      ]
     },
     "metadata": {
      "needs_background": "light"
     },
     "output_type": "display_data"
    }
   ],
   "source": [
    "plt.figure(figsize=(20,7))\n",
    "plt.hist(Graph['Waiting_time'], bins=range(0,  400, 7), alpha=0.5, label=\"Before\")\n",
    "plt.hist(Graph['New_waiting'], bins=range(0,  400, 7), alpha=0.5, label=\"After\")\n",
    "\n",
    "plt.xlabel(\"Waiting Time\", size=14)\n",
    "plt.ylabel(\"Count\", size=14)\n",
    "plt.title(\"Waiting List Before and After\")\n",
    "plt.legend(loc='upper right')"
   ]
  },
  {
   "cell_type": "code",
   "execution_count": 1,
   "metadata": {},
   "outputs": [
    {
     "ename": "NameError",
     "evalue": "name 'plt' is not defined",
     "output_type": "error",
     "traceback": [
      "\u001b[1;31m---------------------------------------------------------------------------\u001b[0m",
      "\u001b[1;31mNameError\u001b[0m                                 Traceback (most recent call last)",
      "\u001b[1;32m<ipython-input-1-4f9107e18a90>\u001b[0m in \u001b[0;36m<module>\u001b[1;34m\u001b[0m\n\u001b[1;32m----> 1\u001b[1;33m \u001b[0mplt\u001b[0m\u001b[1;33m.\u001b[0m\u001b[0mfigure\u001b[0m\u001b[1;33m(\u001b[0m\u001b[0mfigsize\u001b[0m\u001b[1;33m=\u001b[0m\u001b[1;33m(\u001b[0m\u001b[1;36m20\u001b[0m\u001b[1;33m,\u001b[0m\u001b[1;36m7\u001b[0m\u001b[1;33m)\u001b[0m\u001b[1;33m)\u001b[0m\u001b[1;33m\u001b[0m\u001b[1;33m\u001b[0m\u001b[0m\n\u001b[0m\u001b[0;32m      2\u001b[0m \u001b[0mplt\u001b[0m\u001b[1;33m.\u001b[0m\u001b[0mhist\u001b[0m\u001b[1;33m(\u001b[0m\u001b[0mGraph\u001b[0m\u001b[1;33m[\u001b[0m\u001b[1;34m'Welfare_cost'\u001b[0m\u001b[1;33m]\u001b[0m\u001b[1;33m,\u001b[0m \u001b[0mbins\u001b[0m\u001b[1;33m=\u001b[0m\u001b[0mrange\u001b[0m\u001b[1;33m(\u001b[0m\u001b[1;36m1000\u001b[0m\u001b[1;33m,\u001b[0m  \u001b[1;36m15000\u001b[0m\u001b[1;33m,\u001b[0m \u001b[1;36m250\u001b[0m\u001b[1;33m)\u001b[0m\u001b[1;33m,\u001b[0m \u001b[0malpha\u001b[0m\u001b[1;33m=\u001b[0m\u001b[1;36m0.5\u001b[0m\u001b[1;33m,\u001b[0m \u001b[0mlabel\u001b[0m\u001b[1;33m=\u001b[0m\u001b[1;34m\"Before\"\u001b[0m\u001b[1;33m)\u001b[0m\u001b[1;33m\u001b[0m\u001b[1;33m\u001b[0m\u001b[0m\n\u001b[0;32m      3\u001b[0m \u001b[0mplt\u001b[0m\u001b[1;33m.\u001b[0m\u001b[0mhist\u001b[0m\u001b[1;33m(\u001b[0m\u001b[0mGraph\u001b[0m\u001b[1;33m[\u001b[0m\u001b[1;34m'New_welfare'\u001b[0m\u001b[1;33m]\u001b[0m\u001b[1;33m,\u001b[0m \u001b[0mbins\u001b[0m\u001b[1;33m=\u001b[0m\u001b[0mrange\u001b[0m\u001b[1;33m(\u001b[0m\u001b[1;36m1000\u001b[0m\u001b[1;33m,\u001b[0m  \u001b[1;36m15000\u001b[0m\u001b[1;33m,\u001b[0m \u001b[1;36m250\u001b[0m\u001b[1;33m)\u001b[0m\u001b[1;33m,\u001b[0m \u001b[0malpha\u001b[0m\u001b[1;33m=\u001b[0m\u001b[1;36m0.5\u001b[0m\u001b[1;33m,\u001b[0m \u001b[0mlabel\u001b[0m\u001b[1;33m=\u001b[0m\u001b[1;34m\"After\"\u001b[0m\u001b[1;33m)\u001b[0m\u001b[1;33m\u001b[0m\u001b[1;33m\u001b[0m\u001b[0m\n\u001b[0;32m      4\u001b[0m \u001b[1;33m\u001b[0m\u001b[0m\n\u001b[0;32m      5\u001b[0m \u001b[0mplt\u001b[0m\u001b[1;33m.\u001b[0m\u001b[0mxlabel\u001b[0m\u001b[1;33m(\u001b[0m\u001b[1;34m\"Welfare Cost\"\u001b[0m\u001b[1;33m,\u001b[0m \u001b[0msize\u001b[0m\u001b[1;33m=\u001b[0m\u001b[1;36m14\u001b[0m\u001b[1;33m)\u001b[0m\u001b[1;33m\u001b[0m\u001b[1;33m\u001b[0m\u001b[0m\n",
      "\u001b[1;31mNameError\u001b[0m: name 'plt' is not defined"
     ]
    }
   ],
   "source": [
    "plt.figure(figsize=(20,7))\n",
    "plt.hist(Graph['Welfare_cost'], bins=range(1000,  15000, 250), alpha=0.5, label=\"Before\")\n",
    "plt.hist(Graph['New_welfare'], bins=range(1000,  15000, 250), alpha=0.5, label=\"After\")\n",
    "\n",
    "plt.xlabel(\"Welfare Cost\", size=14)\n",
    "plt.ylabel(\"Count\", size=14)\n",
    "plt.title(\"Waiting List Before and After\")\n",
    "plt.legend(loc='upper right')"
   ]
  }
 ],
 "metadata": {
  "kernelspec": {
   "display_name": "Python 3",
   "language": "python",
   "name": "python3"
  },
  "language_info": {
   "codemirror_mode": {
    "name": "ipython",
    "version": 3
   },
   "file_extension": ".py",
   "mimetype": "text/x-python",
   "name": "python",
   "nbconvert_exporter": "python",
   "pygments_lexer": "ipython3",
   "version": "3.8.5"
  }
 },
 "nbformat": 4,
 "nbformat_minor": 4
}

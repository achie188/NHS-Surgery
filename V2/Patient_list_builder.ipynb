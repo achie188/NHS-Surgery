{
 "cells": [
  {
   "cell_type": "code",
   "execution_count": 1,
   "metadata": {},
   "outputs": [],
   "source": [
    "import pandas as pd\n",
    "import numpy as np\n",
    "import datetime as dt"
   ]
  },
  {
   "cell_type": "code",
   "execution_count": 2,
   "metadata": {},
   "outputs": [],
   "source": [
    "#IMPORT WAITING LIST\n",
    "url = r'C:\\Users\\achie\\Github\\NHS-Surgery\\V2'\n",
    "\n",
    "url = url + r'\\Input.xlsx'\n",
    "Patient_list = pd.read_excel(url, sheet_name = 0, header=0, index_col=0)\n",
    "Theatres = pd.read_excel(url, sheet_name = 1, header=0, index_col=0)\n",
    "\n",
    "%store -r NDays\n",
    "\n",
    "start = dt.datetime(2020,12,28)\n",
    "end = start + dt.timedelta(days=NDays)"
   ]
  },
  {
   "cell_type": "code",
   "execution_count": 3,
   "metadata": {},
   "outputs": [],
   "source": [
    "#GET NEW WAITING TIME\n",
    "\n",
    "today = dt.datetime.today()\n",
    "\n",
    "Patient_list['Waiting_time'] = (today - Patient_list['Date of Admission']).dt.days\n",
    "\n",
    "Patient_list['Welfare_cost'] = Patient_list['Waiting_time'] * Patient_list['Hospital Urgency Score']\n",
    "\n",
    "Patient_list['New_op_time'] = np.where(Patient_list['Specialty Descriptions'] == 'Ophthalmology',\n",
    "                                       Patient_list['Expected length of operation (mins)'] + 5,\n",
    "                                       Patient_list['Expected length of operation (mins)'] + 15)\n",
    "\n",
    "Patient_list['Patient_ID'] = Patient_list.index"
   ]
  },
  {
   "cell_type": "code",
   "execution_count": 4,
   "metadata": {},
   "outputs": [],
   "source": [
    "#BY CLINICAL URGENCY EFFICIENCY\n",
    "\n",
    "Patient_list['Clinical_efficiency'] = (Patient_list['Hospital Urgency Score'] / \n",
    "                                       Patient_list['New_op_time'])"
   ]
  },
  {
   "cell_type": "code",
   "execution_count": 5,
   "metadata": {},
   "outputs": [],
   "source": [
    "#BY WAITING EFFICIENCY\n",
    "\n",
    "Patient_list['Waiting_efficiency'] = (Patient_list['Waiting_time'] / \n",
    "                                       Patient_list['New_op_time'])"
   ]
  },
  {
   "cell_type": "code",
   "execution_count": 6,
   "metadata": {},
   "outputs": [],
   "source": [
    "#BY WELFARE EFFICIENCY\n",
    "\n",
    "Patient_list['Welfare_efficiency'] = (Patient_list['Welfare_cost'] / \n",
    "                                       Patient_list['New_op_time'])"
   ]
  },
  {
   "cell_type": "code",
   "execution_count": 7,
   "metadata": {},
   "outputs": [],
   "source": [
    "#ORDER\n",
    "\n",
    "Clinical_urgency = Patient_list.sort_values(by='Hospital Urgency Score', ascending=False)\n",
    "Clinical_efficiency = Patient_list.sort_values(by='Clinical_efficiency', ascending=False)\n",
    "Waiting_urgency = Patient_list.sort_values(by='Waiting_time', ascending=False)\n",
    "Waiting_efficiency = Patient_list.sort_values(by='Waiting_efficiency', ascending=False)\n",
    "Welfare_urgency = Patient_list.sort_values(by='Welfare_cost', ascending=False)\n",
    "Welfare_efficiency = Patient_list.sort_values(by='Welfare_efficiency', ascending=False)\n",
    "Number = Patient_list.sort_values(by='New_op_time', ascending=True)"
   ]
  },
  {
   "cell_type": "code",
   "execution_count": 8,
   "metadata": {},
   "outputs": [],
   "source": [
    "#SAVE\n",
    "\n",
    "url = r'C:\\Users\\achie\\Github\\NHS-Surgery\\V2\\Patient List - Sorted.xlsx'\n",
    "writer = pd.ExcelWriter(url , engine='xlsxwriter')\n",
    "Clinical_urgency.to_excel(writer, sheet_name='Clinical Urgency')\n",
    "Clinical_efficiency.to_excel(writer, sheet_name='Clinical Efficiency')\n",
    "Waiting_urgency.to_excel(writer, sheet_name='Waiting Urgency')\n",
    "Waiting_efficiency.to_excel(writer, sheet_name='Waiting Efficiency')\n",
    "Welfare_urgency.to_excel(writer, sheet_name='Welfare Urgency')\n",
    "Welfare_efficiency.to_excel(writer, sheet_name='Welfare Efficiency')\n",
    "Number.to_excel(writer, sheet_name='Volume')\n",
    "writer.save()"
   ]
  }
 ],
 "metadata": {
  "kernelspec": {
   "display_name": "Python 3",
   "language": "python",
   "name": "python3"
  },
  "language_info": {
   "codemirror_mode": {
    "name": "ipython",
    "version": 3
   },
   "file_extension": ".py",
   "mimetype": "text/x-python",
   "name": "python",
   "nbconvert_exporter": "python",
   "pygments_lexer": "ipython3",
   "version": "3.8.5"
  }
 },
 "nbformat": 4,
 "nbformat_minor": 4
}

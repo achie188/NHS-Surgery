{
 "cells": [
  {
   "cell_type": "code",
   "execution_count": 1,
   "metadata": {},
   "outputs": [
    {
     "name": "stdout",
     "output_type": "stream",
     "text": [
      "Stored 'NDays' (int)\n"
     ]
    }
   ],
   "source": [
    "NDays = 7\n",
    "%store NDays"
   ]
  },
  {
   "cell_type": "code",
   "execution_count": 4,
   "metadata": {},
   "outputs": [
    {
     "name": "stdout",
     "output_type": "stream",
     "text": [
      "WAITING LIST SUMMARY\n",
      "Total number of patients: 1180\n",
      "Average clinical urgency: 21.21\n",
      "Average waiting time:     273.53\n",
      "Highest Urgency:          50\n",
      "Longest Waiting Time:     369\n",
      "--------------\n",
      " \n",
      "If you schedule patients by CLINICAL URGENCY over next 7 days\n",
      "Patients scheduled:          534.0\n",
      "  - Average urgency:         21.9\n",
      "  - Average waiting:         271.0\n",
      " \n",
      "Waiting list after:\n",
      "Patients:                    646.0  (-534.0)\n",
      "  - Average urgency:         20.7   (-0.5)\n",
      "  - Average waiting:         275.0  (1.0)\n",
      "--------------\n",
      " \n",
      "If you schedule patients by WAITING TIME over next 7 days\n",
      "Patients scheduled:          531.0\n",
      "  - Average urgency:         20.4\n",
      "  - Average waiting:         297.0\n",
      " \n",
      "Waiting list after:\n",
      "Patients:                    649.0  (-531.0)\n",
      "  - Average urgency:         21.9   (0.7)\n",
      "  - Average waiting:         255.0  (-19.0)\n",
      "--------------\n",
      " \n",
      "If you schedule patients by VOLUME over next 7 days\n",
      "Patients scheduled:          545.0\n",
      "  - Average urgency:         20.5\n",
      "  - Average waiting:         271.0\n",
      " \n",
      "Waiting list after:\n",
      "Patients:                    635.0  (-545.0)\n",
      "  - Average urgency:         21.8   (0.6)\n",
      "  - Average waiting:         276.0  (2.0)\n",
      "--------------\n",
      " \n"
     ]
    }
   ],
   "source": [
    "%run ./Patient_waiting_list_analysis.ipynb\n",
    "%run ./Patients_by_urgency.ipynb\n",
    "%run ./Patients_by_wait.ipynb\n",
    "%run ./Patients_by_number.ipynb"
   ]
  }
 ],
 "metadata": {
  "kernelspec": {
   "display_name": "Python 3",
   "language": "python",
   "name": "python3"
  },
  "language_info": {
   "codemirror_mode": {
    "name": "ipython",
    "version": 3
   },
   "file_extension": ".py",
   "mimetype": "text/x-python",
   "name": "python",
   "nbconvert_exporter": "python",
   "pygments_lexer": "ipython3",
   "version": "3.8.5"
  }
 },
 "nbformat": 4,
 "nbformat_minor": 4
}

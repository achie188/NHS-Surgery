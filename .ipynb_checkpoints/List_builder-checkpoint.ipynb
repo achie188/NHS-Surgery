{
 "cells": [
  {
   "cell_type": "code",
   "execution_count": 1,
   "metadata": {},
   "outputs": [],
   "source": [
    "import pandas as pd\n",
    "import numpy as np\n",
    "import datetime as dt"
   ]
  },
  {
   "cell_type": "code",
   "execution_count": 2,
   "metadata": {},
   "outputs": [],
   "source": [
    "#IMPORT WAITING LIST\n",
    "url = r'C:\\Users\\achie\\Github\\NHS-Surgery'\n",
    "\n",
    "url = url + r'\\Input.xlsx'\n",
    "Patient_List = pd.read_excel(url, sheet_name = 0, header=0, index_col=0)\n",
    "Theatres = pd.read_excel(url, sheet_name = 1, header=0, index_col=0)\n",
    "\n",
    "%store -r NDays\n",
    "\n",
    "start = dt.datetime(2020,12,28)\n",
    "end = start + dt.timedelta(days=NDays)"
   ]
  },
  {
   "cell_type": "code",
   "execution_count": 3,
   "metadata": {},
   "outputs": [],
   "source": [
    "#GET NEW WAITING TIME\n",
    "\n",
    "today = dt.datetime.today()\n",
    "\n",
    "Patient_List['Waiting_time'] = (today - Patient_List['Date of Admission']).dt.days"
   ]
  },
  {
   "cell_type": "code",
   "execution_count": 4,
   "metadata": {},
   "outputs": [],
   "source": [
    "#BY CLINICAL URGENCY EFFICIENCY\n",
    "\n",
    "Patient_List['Clinical_efficiency'] = (Patient_List['Hospital Urgency Score'] / \n",
    "                                       Patient_List['Expected length of operation (mins)'])"
   ]
  },
  {
   "cell_type": "code",
   "execution_count": 4,
   "metadata": {},
   "outputs": [],
   "source": [
    "#BY WAITING URGENCY\n",
    "\n",
    "Patient_List['Waiting_efficiency'] = (Patient_List['Waiting_time'] / \n",
    "                                       Patient_List['Expected length of operation (mins)'])"
   ]
  },
  {
   "cell_type": "code",
   "execution_count": null,
   "metadata": {},
   "outputs": [],
   "source": [
    "Clinical_urgency = Patient_List.sort_values(by='Hospital Urgency Score', ascending=False)\n",
    "Clinical_efficiency = Patient_List.sort_values(by='Clinical_efficiency', ascending=False)\n",
    "Waiting_urgency = Patient_List.sort_values(by='Waiting_time', ascending=False)\n",
    "Waiting_efficiency = Patient_List.sort_values(by='Waiting_efficiency', ascending=False)\n",
    "Number = Patient_List.sort_values(by='Expected length of operation (mins)', ascending=True)\n",
    "\n",
    "\n",
    "url = r'C:\\Users\\achie\\Github\\NHS-Surgery\\Patient List - Sorted.xlsx'\n",
    "writer = pd.ExcelWriter(url , engine='xlsxwriter')\n",
    "Clinical_urgency.to_excel(writer, sheet_name='Clinical Urgency')\n",
    "Clinical_efficiency.to_excel(writer, sheet_name='Clinical Efficiency')\n",
    "Waiting_urgency.to_excel(writer, sheet_name='Waiting Urgency')\n",
    "Waiting_efficiency.to_excel(writer, sheet_name='Waiting Efficiency')\n",
    "Number.to_excel(writer, sheet_name='Volume')\n",
    "writer.save()"
   ]
  }
 ],
 "metadata": {
  "kernelspec": {
   "display_name": "Python 3",
   "language": "python",
   "name": "python3"
  },
  "language_info": {
   "codemirror_mode": {
    "name": "ipython",
    "version": 3
   },
   "file_extension": ".py",
   "mimetype": "text/x-python",
   "name": "python",
   "nbconvert_exporter": "python",
   "pygments_lexer": "ipython3",
   "version": "3.8.5"
  }
 },
 "nbformat": 4,
 "nbformat_minor": 4
}

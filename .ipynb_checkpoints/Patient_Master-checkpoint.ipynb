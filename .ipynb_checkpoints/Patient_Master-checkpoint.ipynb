{
 "cells": [
  {
   "cell_type": "code",
   "execution_count": 76,
   "metadata": {},
   "outputs": [
    {
     "name": "stdout",
     "output_type": "stream",
     "text": [
      "Stored 'NDays' (int)\n"
     ]
    }
   ],
   "source": [
    "NDays = 7\n",
    "%store NDays\n",
    "\n",
    "Criteria_types = ['ABSOLUTE CLINICAL URGENCY', 'CLINICAL EFFICIENCY', 'ABSOLUTE WAITING', \n",
    "                   'WAITING EFFICIENCY', 'VOLUME']"
   ]
  },
  {
   "cell_type": "code",
   "execution_count": 84,
   "metadata": {},
   "outputs": [
    {
     "name": "stdout",
     "output_type": "stream",
     "text": [
      "WAITING LIST SUMMARY\n",
      "Total number of patients: 1180\n",
      "Average clinical urgency: 21.21\n",
      "Average waiting time:     272.53\n",
      "Highest Urgency:          50\n",
      "Longest Waiting Time:     368\n",
      "--------------\n",
      " \n",
      "Stored 'Crit_Type' (str)\n",
      "If you schedule patients by Absolute Clinical Urgency over next 7 days\n",
      "Patients scheduled:          453.0\n",
      "  - Average urgency:         21.8\n",
      "  - Average waiting:         281.0\n",
      " \n",
      "Waiting list after:\n",
      "Patients:                    727.0  (-453.0)\n",
      "  - Average urgency:         21.7   (0.5)\n",
      "  - Average waiting:         267.0  (-6.0)\n",
      "--------------\n",
      " \n",
      "Stored 'Crit_Type' (str)\n",
      "If you schedule patients by Clinical Efficiency over next 7 days\n",
      "Patients scheduled:          533.0\n",
      "  - Average urgency:         21.8\n",
      "  - Average waiting:         282.0\n",
      " \n",
      "Waiting list after:\n",
      "Patients:                    647.0  (-533.0)\n",
      "  - Average urgency:         21.2   (0.0)\n",
      "  - Average waiting:         265.0  (-8.0)\n",
      "--------------\n",
      " \n",
      "Stored 'Crit_Type' (str)\n",
      "If you schedule patients by Absolute Waiting over next 7 days\n",
      "Patients scheduled:          422.0\n",
      "  - Average urgency:         21.8\n",
      "  - Average waiting:         310.0\n",
      " \n",
      "Waiting list after:\n",
      "Patients:                    758.0  (-422.0)\n",
      "  - Average urgency:         21.4   (0.2)\n",
      "  - Average waiting:         252.0  (-21.0)\n",
      "--------------\n",
      " \n",
      "Stored 'Crit_Type' (str)\n",
      "If you schedule patients by Waiting Efficiency over next 7 days\n",
      "Patients scheduled:          531.0\n",
      "  - Average urgency:         21.8\n",
      "  - Average waiting:         296.0\n",
      " \n",
      "Waiting list after:\n",
      "Patients:                    649.0  (-531.0)\n",
      "  - Average urgency:         21.9   (0.7)\n",
      "  - Average waiting:         253.0  (-20.0)\n",
      "--------------\n",
      " \n",
      "Stored 'Crit_Type' (str)\n",
      "If you schedule patients by Volume over next 7 days\n",
      "Patients scheduled:          537.0\n",
      "  - Average urgency:         21.8\n",
      "  - Average waiting:         283.0\n",
      " \n",
      "Waiting list after:\n",
      "Patients:                    643.0  (-537.0)\n",
      "  - Average urgency:         21.6   (0.4)\n",
      "  - Average waiting:         264.0  (-9.0)\n",
      "--------------\n",
      " \n"
     ]
    }
   ],
   "source": [
    "%run ./Patient_waiting_list_analysis.ipynb\n",
    "%run ./List_builder.ipynb\n",
    "\n",
    "for Crit_Type in Criteria_types:\n",
    "    %store Crit_Type\n",
    "    %run ./Schedule_organiser.ipynb"
   ]
  }
 ],
 "metadata": {
  "kernelspec": {
   "display_name": "Python 3",
   "language": "python",
   "name": "python3"
  },
  "language_info": {
   "codemirror_mode": {
    "name": "ipython",
    "version": 3
   },
   "file_extension": ".py",
   "mimetype": "text/x-python",
   "name": "python",
   "nbconvert_exporter": "python",
   "pygments_lexer": "ipython3",
   "version": "3.8.5"
  }
 },
 "nbformat": 4,
 "nbformat_minor": 4
}
